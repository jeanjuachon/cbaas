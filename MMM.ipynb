{
 "cells": [
  {
   "cell_type": "code",
   "execution_count": 2,
   "metadata": {},
   "outputs": [],
   "source": [
    "import numpy as np\n",
    "import pandas as pd\n",
    "from matplotlib import pyplot as plt"
   ]
  },
  {
   "cell_type": "code",
   "execution_count": 3,
   "metadata": {},
   "outputs": [],
   "source": [
    "origData = pd.read_excel(\"MMM_data.xlsx\")\n",
    "df = origData.copy()"
   ]
  },
  {
   "cell_type": "code",
   "execution_count": 5,
   "metadata": {},
   "outputs": [
    {
     "data": {
      "text/plain": [
       "0       TV Manufacturing & Supplier Unit\n",
       "1       TV Manufacturing & Supplier Unit\n",
       "2       TV Manufacturing & Supplier Unit\n",
       "3       TV Manufacturing & Supplier Unit\n",
       "4       TV Manufacturing & Supplier Unit\n",
       "                      ...               \n",
       "2608    TV Manufacturing & Supplier Unit\n",
       "2609    TV Manufacturing & Supplier Unit\n",
       "2610    TV Manufacturing & Supplier Unit\n",
       "2611    TV Manufacturing & Supplier Unit\n",
       "2612    TV Manufacturing & Supplier Unit\n",
       "Name: TV Manufacturing Brand, Length: 2613, dtype: object"
      ]
     },
     "execution_count": 5,
     "metadata": {},
     "output_type": "execute_result"
    }
   ],
   "source": [
    "df['TV Manufacturing Brand'].value)_c"
   ]
  },
  {
   "cell_type": "code",
   "execution_count": null,
   "metadata": {},
   "outputs": [],
   "source": []
  }
 ],
 "metadata": {
  "kernelspec": {
   "display_name": "Python 3",
   "language": "python",
   "name": "python3"
  },
  "language_info": {
   "codemirror_mode": {
    "name": "ipython",
    "version": 3
   },
   "file_extension": ".py",
   "mimetype": "text/x-python",
   "name": "python",
   "nbconvert_exporter": "python",
   "pygments_lexer": "ipython3",
   "version": "3.7.4"
  }
 },
 "nbformat": 4,
 "nbformat_minor": 4
}
